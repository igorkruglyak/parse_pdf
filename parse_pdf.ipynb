{
 "cells": [
  {
   "cell_type": "code",
   "execution_count": 1,
   "id": "0ac2e9b0-3b27-421d-a689-ac94dc19dd05",
   "metadata": {},
   "outputs": [],
   "source": [
    "from pdfminer.high_level import extract_text\n",
    "import re\n",
    "import pandas as pd\n",
    "\n",
    "with open('./book.pdf','rb') as f:\n",
    "    source = extract_text(f)\n",
    "    t = \" \".join(source.split())\n",
    "    join_text = \"\".join(t)\n",
    "    #print(join_text)"
   ]
  },
  {
   "cell_type": "code",
   "execution_count": 2,
   "id": "4e0b3dc7-17bb-4466-bd6c-0ff1bfb7dd9a",
   "metadata": {},
   "outputs": [],
   "source": [
    "text = re.sub(r'Poster abstracts\\s\\d', \"\", join_text)\n",
    "text = re.sub(r'Poster abstractsActa Derm Venereol 2018\\s\\d+', \"\", text)\n",
    "text = re.sub(r'www.medicaljournals.se/acta5th World Psoriasis & Psoriatic Arthritis Conference 2018', '', text)\n",
    "text = re.sub(r'\\w-\\s', '', text)\n",
    "text = re.sub(r'\\xad', '', text)\n",
    "#print(text)"
   ]
  },
  {
   "cell_type": "code",
   "execution_count": 3,
   "id": "0994016f-d77c-4979-87c3-eca634f90fe1",
   "metadata": {},
   "outputs": [],
   "source": [
    "pattern = re.compile(r\"(P\\d{3})\")\n",
    "text_list = []\n",
    "text_list = re.split(pattern, text)\n",
    "text_list.remove(text_list[0]) # remove page number\n",
    "#print(text_list)"
   ]
  },
  {
   "cell_type": "code",
   "execution_count": 4,
   "id": "cfef4306-59d0-44e6-aa2f-ad4387ecd118",
   "metadata": {},
   "outputs": [],
   "source": [
    "def convert_text_to_dictionary(text):\n",
    "    it = iter(text)\n",
    "    create_dict = dict(zip(it, it))\n",
    "    return create_dict\n",
    "\n",
    "text_dict = convert_text_to_dictionary(text_list)\n",
    "#print(text_dict)"
   ]
  },
  {
   "cell_type": "code",
   "execution_count": 5,
   "id": "1cac7aef-798b-4582-934e-6fd7b7a21153",
   "metadata": {},
   "outputs": [],
   "source": [
    "extract = text_dict['P100']"
   ]
  },
  {
   "cell_type": "code",
   "execution_count": 6,
   "id": "fbc65e13-6842-4c06-b1e5-a641ee1c0432",
   "metadata": {},
   "outputs": [
    {
     "data": {
      "text/plain": [
       "'IMMUNOLOGICAL MEMORY EXISTS IN THE RECURRENT LESION AND NONRECURRENT SKIN AFTER REMISSION IN PSORIATIC PATIENTS Zhu Shen Institute of Dermatology and Venereology, Sichuan Academy of Medical Sciences & Sichuan Provincial People’s Hospital '"
      ]
     },
     "execution_count": 6,
     "metadata": {},
     "output_type": "execute_result"
    }
   ],
   "source": [
    "extract_info = re.findall(r\"\\w+[A-Z\\w+]\\w+.*(?=Introduction.*)\", extract)\n",
    "extract_head = str(extract_info[0])\n",
    "extract_head"
   ]
  },
  {
   "cell_type": "code",
   "execution_count": 7,
   "id": "904b6381-483b-4fdd-972b-b30f600763bc",
   "metadata": {},
   "outputs": [
    {
     "data": {
      "text/plain": [
       "'Zhu Shen Institute of Dermatology and Venereology, Sichuan Academy of Medical Sciences & Sichuan Provincial People’s Hospital '"
      ]
     },
     "execution_count": 7,
     "metadata": {},
     "output_type": "execute_result"
    }
   ],
   "source": [
    "authors_info = re.findall(r\"\\w+[^A-Z\\d)\\W]\\s\\w.*(?=Introduction.*)\", extract)\n",
    "authors = str(authors_info[0])\n",
    "authors"
   ]
  },
  {
   "cell_type": "code",
   "execution_count": 8,
   "id": "3b275c7b-814e-488a-8d98-2190b50199ca",
   "metadata": {},
   "outputs": [
    {
     "data": {
      "text/plain": [
       "['Zhu Shen ']"
      ]
     },
     "execution_count": 8,
     "metadata": {},
     "output_type": "execute_result"
    }
   ],
   "source": [
    "author_name = re.findall(r\"\\w.+(?=Institute)\", authors)\n",
    "author_name\n",
    "author_list = [x for x in author_name[0].split(',')]\n",
    "author_list"
   ]
  },
  {
   "cell_type": "code",
   "execution_count": 9,
   "id": "94dc6ddb-3194-4276-a302-af8123be6b7f",
   "metadata": {},
   "outputs": [
    {
     "data": {
      "text/plain": [
       "['Institute of Dermatology and Venereology, Sichuan Academy of Medical Sciences & Sichuan Provincial People’s Hospital ']"
      ]
     },
     "execution_count": 9,
     "metadata": {},
     "output_type": "execute_result"
    }
   ],
   "source": [
    "author_location = re.findall(r\"Institute[^*]+\", authors)\n",
    "author_location"
   ]
  },
  {
   "cell_type": "code",
   "execution_count": 10,
   "id": "3b76fdf6-36c0-4269-8498-b5a036c9261b",
   "metadata": {},
   "outputs": [
    {
     "data": {
      "text/plain": [
       "['IMMUNOLOGICAL MEMORY EXISTS IN THE RECURRENT LESION AND NONRECURRENT SKIN AFTER REMISSION IN PSORIATIC PATIENTS ']"
      ]
     },
     "execution_count": 10,
     "metadata": {},
     "output_type": "execute_result"
    }
   ],
   "source": [
    "pattern = re.compile(r\"\\w+[^A-Z\\d\\W]\\s\\w.*\")\n",
    "extract_title = [re.sub(pattern, \"\", i) for i in extract_info]\n",
    "extract_title"
   ]
  },
  {
   "cell_type": "code",
   "execution_count": 11,
   "id": "7bcfc143-80e6-46a3-ba91-ed764404a412",
   "metadata": {},
   "outputs": [
    {
     "data": {
      "text/plain": [
       "['Introduction: Psoriasis usually recurs in previously affected areas, so a pathogenic memory has been proposed, but the nature of such site-specific recurrent memory is not completely known. Tissuresident memory T (TRM) cells are non-recirculating memory T cells that persist long-term in epithelial tissues, including the skin. Because they can localize in the skin for many months, we spculate that TRM may contribute to recurrent pathology of psoriasis. Objectives: The aim of the present study is to compare the diferences of quantity proportion and secretion ability of cytokines of the TRM cells between recurrent and nonrecurrent lesions following remission, as well as to explicit the possible survival signal for these TRM cells in psoriatic lesion. Methods: RNA-Seq, Gene Ontology and KEGG analysis, real-time PCR, flow cytometer analysis/sorting, cell stimulation assay, and western blot were used to explore the immunological memory. Results: Compared with normal skin, there are common shared genes significantly upregulated ( > 2 folds, p < 0.001) by recurrent and nonrecurrent lesions, including CD69. CD69 mRNA transcrition level in nonrecurrent lesions after remission remains as high as in neighboring recurrent lesions. CD8+CD69+ TRM cells exist in both lesions, and they can secret almost same amount of IL-17A and IL-22 after stimulation. Levels of IL-15, secreted by keratnocytes in psoriasis epidermis, in nonrecurrent lesions remain as high as in neighboring recurrent lesions, and recombinant human IL-15 can induce CD69 on TRM cells. Conclusions: Our preliminary study shows that CD8+CD69+ TRM cells persist in clinically resolved psoriatic lesions whether it recurs or not, and they can produce IL-17A and IL-22 with critical effect on psoriatic recurrence and development. Furthermore, we have indicated the IL-15 may play crucial role in the survival of CD8+CD69+ TRM cells in psoriatic lesions. References: 1. Mueller SN, Mackay LK.Tissue-resident memory T cells: local spcialists in immune defence. Nat Rev Immunol. 2016 Feb;16(2):79-89. 2. Clark RA. Resident memory T cells in human health and disease. Sci Transl Med. 2015 Jan 7;7(269):269rv1. 3. Park CO, KupperTS. The emerging role of resident memory T cells in protective immunity and inflammatory disease. Nat Med. 2015 Jul;21(7):688-97. 4. Cheuk S, Wikén M, Blomqvist L, Nylén S, Talme T, Ståhle M, EidmoL. Epidermal Th22 and Tc17 cells form a localized disease memory in clinically healed psoriasis. J Immunol. 2014 Apr 1;192(7):3111-20. ']"
      ]
     },
     "execution_count": 11,
     "metadata": {},
     "output_type": "execute_result"
    }
   ],
   "source": [
    "extract_text = re.findall(r\"(Introduction.*)\", extract)\n",
    "extract_text"
   ]
  },
  {
   "cell_type": "code",
   "execution_count": 12,
   "id": "d6e764f6-c741-4ab2-8a86-ad1a8488ca9b",
   "metadata": {},
   "outputs": [
    {
     "data": {
      "text/html": [
       "<div>\n",
       "<style scoped>\n",
       "    .dataframe tbody tr th:only-of-type {\n",
       "        vertical-align: middle;\n",
       "    }\n",
       "\n",
       "    .dataframe tbody tr th {\n",
       "        vertical-align: top;\n",
       "    }\n",
       "\n",
       "    .dataframe thead th {\n",
       "        text-align: right;\n",
       "    }\n",
       "</style>\n",
       "<table border=\"1\" class=\"dataframe\">\n",
       "  <thead>\n",
       "    <tr style=\"text-align: right;\">\n",
       "      <th></th>\n",
       "      <th>About the person</th>\n",
       "      <th>Unnamed: 1</th>\n",
       "      <th>Unnamed: 2</th>\n",
       "      <th>About the session/topic</th>\n",
       "      <th>Unnamed: 4</th>\n",
       "      <th>Unnamed: 5</th>\n",
       "    </tr>\n",
       "  </thead>\n",
       "  <tbody>\n",
       "    <tr>\n",
       "      <th>0</th>\n",
       "      <td>Name (incl. titles if any mentioned)</td>\n",
       "      <td>Affiliation(s) Name(s)</td>\n",
       "      <td>Person's Location</td>\n",
       "      <td>Session Name</td>\n",
       "      <td>Topic Title</td>\n",
       "      <td>Presentation Abstract</td>\n",
       "    </tr>\n",
       "  </tbody>\n",
       "</table>\n",
       "</div>"
      ],
      "text/plain": [
       "                       About the person              Unnamed: 1  \\\n",
       "0  Name (incl. titles if any mentioned)  Affiliation(s) Name(s)   \n",
       "\n",
       "          Unnamed: 2 About the session/topic   Unnamed: 4  \\\n",
       "0  Person's Location            Session Name  Topic Title   \n",
       "\n",
       "              Unnamed: 5  \n",
       "0  Presentation Abstract  "
      ]
     },
     "execution_count": 12,
     "metadata": {},
     "output_type": "execute_result"
    }
   ],
   "source": [
    "import pandas as pd\n",
    "\n",
    "df = pd.DataFrame({\"About the person\": 'Name (incl. titles if any mentioned)',\n",
    "                   \"Unnamed: 1\": 'Affiliation(s) Name(s)',\n",
    "                   \"Unnamed: 2\": \"Person's Location\",\n",
    "                   \"About the session/topic\": \"Session Name\",\n",
    "                   \"Unnamed: 4\": 'Topic Title',\n",
    "                   \"Unnamed: 5\": 'Presentation Abstract'}, index=[0])\n",
    "df"
   ]
  },
  {
   "cell_type": "code",
   "execution_count": 13,
   "id": "51b1d361-bd28-401c-ad40-ac8afba0ca91",
   "metadata": {},
   "outputs": [
    {
     "data": {
      "text/html": [
       "<div>\n",
       "<style scoped>\n",
       "    .dataframe tbody tr th:only-of-type {\n",
       "        vertical-align: middle;\n",
       "    }\n",
       "\n",
       "    .dataframe tbody tr th {\n",
       "        vertical-align: top;\n",
       "    }\n",
       "\n",
       "    .dataframe thead th {\n",
       "        text-align: right;\n",
       "    }\n",
       "</style>\n",
       "<table border=\"1\" class=\"dataframe\">\n",
       "  <thead>\n",
       "    <tr style=\"text-align: right;\">\n",
       "      <th></th>\n",
       "      <th>About the person</th>\n",
       "      <th>Unnamed: 1</th>\n",
       "      <th>Unnamed: 2</th>\n",
       "      <th>About the session/topic</th>\n",
       "      <th>Unnamed: 4</th>\n",
       "      <th>Unnamed: 5</th>\n",
       "    </tr>\n",
       "  </thead>\n",
       "  <tbody>\n",
       "    <tr>\n",
       "      <th>0</th>\n",
       "      <td>Zhu Shen</td>\n",
       "      <td>Institute of Dermatology and Venereology, Sich...</td>\n",
       "      <td></td>\n",
       "      <td>P100</td>\n",
       "      <td>IMMUNOLOGICAL MEMORY EXISTS IN THE RECURRENT L...</td>\n",
       "      <td>Introduction: Psoriasis usually recurs in prev...</td>\n",
       "    </tr>\n",
       "  </tbody>\n",
       "</table>\n",
       "</div>"
      ],
      "text/plain": [
       "  About the person                                         Unnamed: 1  \\\n",
       "0        Zhu Shen   Institute of Dermatology and Venereology, Sich...   \n",
       "\n",
       "  Unnamed: 2 About the session/topic  \\\n",
       "0                               P100   \n",
       "\n",
       "                                          Unnamed: 4  \\\n",
       "0  IMMUNOLOGICAL MEMORY EXISTS IN THE RECURRENT L...   \n",
       "\n",
       "                                          Unnamed: 5  \n",
       "0  Introduction: Psoriasis usually recurs in prev...  "
      ]
     },
     "execution_count": 13,
     "metadata": {},
     "output_type": "execute_result"
    }
   ],
   "source": [
    "df1 = pd.DataFrame({\"About the person\": author_name,\n",
    "                   \"Unnamed: 1\": author_location,\n",
    "                   \"Unnamed: 2\": \"\",\n",
    "                   \"About the session/topic\": \"P100\",\n",
    "                   \"Unnamed: 4\": extract_title,\n",
    "                   \"Unnamed: 5\": extract_text})\n",
    "df1"
   ]
  },
  {
   "cell_type": "code",
   "execution_count": 14,
   "id": "6440e09b-2c36-4004-800a-ac954fd85204",
   "metadata": {},
   "outputs": [
    {
     "data": {
      "text/html": [
       "<div>\n",
       "<style scoped>\n",
       "    .dataframe tbody tr th:only-of-type {\n",
       "        vertical-align: middle;\n",
       "    }\n",
       "\n",
       "    .dataframe tbody tr th {\n",
       "        vertical-align: top;\n",
       "    }\n",
       "\n",
       "    .dataframe thead th {\n",
       "        text-align: right;\n",
       "    }\n",
       "</style>\n",
       "<table border=\"1\" class=\"dataframe\">\n",
       "  <thead>\n",
       "    <tr style=\"text-align: right;\">\n",
       "      <th></th>\n",
       "      <th>About the person</th>\n",
       "      <th>Unnamed: 1</th>\n",
       "      <th>Unnamed: 2</th>\n",
       "      <th>About the session/topic</th>\n",
       "      <th>Unnamed: 4</th>\n",
       "      <th>Unnamed: 5</th>\n",
       "    </tr>\n",
       "  </thead>\n",
       "  <tbody>\n",
       "    <tr>\n",
       "      <th>0</th>\n",
       "      <td>Name (incl. titles if any mentioned)</td>\n",
       "      <td>Affiliation(s) Name(s)</td>\n",
       "      <td>Person's Location</td>\n",
       "      <td>Session Name</td>\n",
       "      <td>Topic Title</td>\n",
       "      <td>Presentation Abstract</td>\n",
       "    </tr>\n",
       "    <tr>\n",
       "      <th>1</th>\n",
       "      <td>Zhu Shen</td>\n",
       "      <td>Institute of Dermatology and Venereology, Sich...</td>\n",
       "      <td></td>\n",
       "      <td>P100</td>\n",
       "      <td>IMMUNOLOGICAL MEMORY EXISTS IN THE RECURRENT L...</td>\n",
       "      <td>Introduction: Psoriasis usually recurs in prev...</td>\n",
       "    </tr>\n",
       "  </tbody>\n",
       "</table>\n",
       "</div>"
      ],
      "text/plain": [
       "                       About the person  \\\n",
       "0  Name (incl. titles if any mentioned)   \n",
       "1                             Zhu Shen    \n",
       "\n",
       "                                          Unnamed: 1         Unnamed: 2  \\\n",
       "0                             Affiliation(s) Name(s)  Person's Location   \n",
       "1  Institute of Dermatology and Venereology, Sich...                      \n",
       "\n",
       "  About the session/topic                                         Unnamed: 4  \\\n",
       "0            Session Name                                        Topic Title   \n",
       "1                    P100  IMMUNOLOGICAL MEMORY EXISTS IN THE RECURRENT L...   \n",
       "\n",
       "                                          Unnamed: 5  \n",
       "0                              Presentation Abstract  \n",
       "1  Introduction: Psoriasis usually recurs in prev...  "
      ]
     },
     "execution_count": 14,
     "metadata": {},
     "output_type": "execute_result"
    }
   ],
   "source": [
    "df2 = df.append(df1, ignore_index=True)\n",
    "df2"
   ]
  },
  {
   "cell_type": "code",
   "execution_count": 15,
   "id": "cbbc24f4-2e4c-47ff-a8da-98deff9f7f6e",
   "metadata": {},
   "outputs": [],
   "source": [
    "df = pd.read_csv('task.csv')"
   ]
  },
  {
   "cell_type": "code",
   "execution_count": 16,
   "id": "b48791df-3d23-4e38-8fa6-f8fcdb163645",
   "metadata": {},
   "outputs": [],
   "source": [
    "excel_file = df2.to_csv(\"task.csv\", index=False)\n",
    "excel_file"
   ]
  },
  {
   "cell_type": "code",
   "execution_count": 107,
   "id": "18a7b393-e5cd-45ef-9583-a15aa497d291",
   "metadata": {},
   "outputs": [],
   "source": [
    "extract = text_dict['P106']"
   ]
  },
  {
   "cell_type": "code",
   "execution_count": 108,
   "id": "65058565-8dba-47a7-978b-f7a307a1a200",
   "metadata": {},
   "outputs": [
    {
     "data": {
      "text/plain": [
       "'ENVIRONMENTAL TRIGGERS OF AN HLAC*06:02 RESTRICTED AUTOIMMUNE RESPONSE IN PSORIASIS Secil Vural, Yukiyasu Arakawa, Adrian Galinski, Sigrid Vollmer, Akiko Arakawa, Jörg Prinz Ludwig Maximilian University '"
      ]
     },
     "execution_count": 108,
     "metadata": {},
     "output_type": "execute_result"
    }
   ],
   "source": [
    "extract_info = re.findall(r\"\\w+[A-Z\\w+]\\w+.*(?=Introduction.*)\", extract)\n",
    "extract_head = str(extract_info[0])\n",
    "extract_head"
   ]
  },
  {
   "cell_type": "code",
   "execution_count": 109,
   "id": "bfbf7508-4a6d-416e-8e4d-929996e840a1",
   "metadata": {},
   "outputs": [
    {
     "data": {
      "text/plain": [
       "'Secil Vural, Yukiyasu Arakawa, Adrian Galinski, Sigrid Vollmer, Akiko Arakawa, Jörg Prinz '"
      ]
     },
     "execution_count": 109,
     "metadata": {},
     "output_type": "execute_result"
    }
   ],
   "source": [
    "authors_info = re.findall(r\"\\w+[^A-Z\\d)\\W]\\s\\w.*(?=Ludwig.*)\", extract)\n",
    "authors = str(authors_info[0])\n",
    "authors"
   ]
  },
  {
   "cell_type": "code",
   "execution_count": 110,
   "id": "9bed8d42-4cb9-4eba-8b0e-ec1863745fd8",
   "metadata": {},
   "outputs": [
    {
     "data": {
      "text/plain": [
       "['Secil Vural',\n",
       " ' Yukiyasu Arakawa',\n",
       " ' Adrian Galinski',\n",
       " ' Sigrid Vollmer',\n",
       " ' Akiko Arakawa',\n",
       " ' Jörg Prinz ']"
      ]
     },
     "execution_count": 110,
     "metadata": {},
     "output_type": "execute_result"
    }
   ],
   "source": [
    "author_list = [x for x in authors.split(',')]\n",
    "author_list"
   ]
  },
  {
   "cell_type": "code",
   "execution_count": 111,
   "id": "566ccbdf-6a32-4ad2-a991-82a99fabf8b0",
   "metadata": {},
   "outputs": [
    {
     "name": "stdout",
     "output_type": "stream",
     "text": [
      "['Secil Vural', ' Yukiyasu Arakawa', ' Adrian Galinski', ' Sigrid Vollmer', ' Akiko Arakawa', ' Jörg Prinz ']\n"
     ]
    }
   ],
   "source": [
    "author_list = [re.sub(r'[0-9]', '', i) for i in author_list]\n",
    "print(author_list)"
   ]
  },
  {
   "cell_type": "code",
   "execution_count": 112,
   "id": "47ca38d4-f32b-4b3e-a9b3-318c967567d6",
   "metadata": {},
   "outputs": [
    {
     "data": {
      "text/plain": [
       "'Secil Vural, Yukiyasu Arakawa, Adrian Galinski, Sigrid Vollmer, Akiko Arakawa, Jörg Prinz '"
      ]
     },
     "execution_count": 112,
     "metadata": {},
     "output_type": "execute_result"
    }
   ],
   "source": [
    "author_name = ','.join(author_list)\n",
    "author_name"
   ]
  },
  {
   "cell_type": "code",
   "execution_count": 113,
   "id": "aa42ae53-fd94-4754-9f6f-c0cf1bb03ad2",
   "metadata": {},
   "outputs": [
    {
     "data": {
      "text/plain": [
       "['Ludwig Maximilian University ']"
      ]
     },
     "execution_count": 113,
     "metadata": {},
     "output_type": "execute_result"
    }
   ],
   "source": [
    "author_location = re.findall(r\"Ludwig[^*]+\", extract_head)\n",
    "author_location"
   ]
  },
  {
   "cell_type": "code",
   "execution_count": 114,
   "id": "b9fba4cd-64ce-475e-a088-ea15ce19f8a2",
   "metadata": {},
   "outputs": [
    {
     "name": "stdout",
     "output_type": "stream",
     "text": [
      "['Ludwig Maximilian University ']\n"
     ]
    }
   ],
   "source": [
    "author_location = [re.sub(r'[0-9]', '', i) for i in author_location]\n",
    "print(author_location)"
   ]
  },
  {
   "cell_type": "code",
   "execution_count": 115,
   "id": "4f00402b-204d-4885-a4d5-033f1e29bfc6",
   "metadata": {},
   "outputs": [
    {
     "data": {
      "text/plain": [
       "['ENVIRONMENTAL TRIGGERS OF AN HLAC*06:02 RESTRICTED AUTOIMMUNE RESPONSE IN PSORIASIS ']"
      ]
     },
     "execution_count": 115,
     "metadata": {},
     "output_type": "execute_result"
    }
   ],
   "source": [
    "pattern = re.compile(r\"\\w+[^A-Z\\d\\W]\\s\\w.*\")\n",
    "extract_title = [re.sub(pattern, \"\", i) for i in extract_info]\n",
    "extract_title"
   ]
  },
  {
   "cell_type": "code",
   "execution_count": 116,
   "id": "b20b576d-bbad-4e97-9a3f-0caccb1feba5",
   "metadata": {},
   "outputs": [
    {
     "data": {
      "text/plain": [
       "['Introduction: Psoriasis vulgaris is a multifactorial disease. While the major psoriasis risk gene HLA-C*06:02 accounts for up to 50% of disease onset, environmental factors are considered to contribute to approximately 30% of disease risk. Psoriatic skin inflammation is driven by an HLA-C*06:02-mediated autoimmune response against melanocytes. A pathogenic Vα3S1/Vβ13S1 T-cell receptor (TCR), which we had reconstituted from a lesional epdermal CD8+ T-cell clone of an HLA-C*06:02–positive psoriasis patient in a mouse reporter hybridoma cell line, specifically reacts against melanocytes through HLA-C*06:02 restricted recognition of a psoriatic melanocyte autoantigen, ADAMTS-like protein 5 (ADAMTSL5). However, it is unknown whether and how enviro mental factors may contribute to autoimmunity in psoriasis. TCRs are known to be polyspecific, recognizing multiple peptide ligands which share a conserved amino acid pattern specific for each TCR. Objectives: To examine the potential role of environmental factors in the psoriatic autoimmune response. Methods: We first determined the particular amino acid motif which is recognized by the psoriatic Vα3S1/Vβ13S1 TCR in the context of HLA-C*06:02. By homology searches using this conserved amino acid pattern, we selected 57 peptides from food, bacterial, fungal and viral pathogens and from the skin and intestinal microbiomes as candidate environmental antigens that may trigger the psoriatic autoimmune response. We cloned the peptides into expression plasmids, co-transfected them with HLC*06:02 into Cos7 cells and used them to stimulate the Vα3S1/ Vβ13S1 TCR. TCR ligation was determined by GFP induction of TCR hybridoma in FACS analysis. We then stimulated blood lymphocytes with the candidate peptides that had ligated the Vα3S1/Vβ13S1 TCR. Lymphocyte activation was assessed by induction of activation markers and proliferation assays using thymidine incorporation. Results: We identified a variety of peptides contained in proteins from food (wheat, coffee, apple, and spinach), microbiota of hman skin or gut, and infectious pathogens including Chlamydia trachomatis, which ligated the psoriatic TCR in a polyspecific manner. Stimulation of blood lymphocytes with particular canddate antigens resulted in significant activation in psoriasis patients, as compared to healthy individuals. Interindividual-correlation analyses demonstrated cross-reactive immune responses between environmental antigens and the melanocyte autoantigen preseted by HLA-C*06:02 in psoriasis patients. Among the candidate antigens, wheat peptides induced most robust lymphocyte activtions in psoriasis patients. Moreover, psoriasis was significantly improved by wheat-free diet in several patients with lymphocytes responding to wheat, indicating potential pathogenic contribution of wheat antigens in psoriasis. Conclusions: Our results provide unbiased evidence that several environmental antigens may trigger the melanocyte-specific autoimmune response in psoriasis. By identifying and avoiding those triggers at the molecular level which translate the genetic predisposition into disease manifestation, we may develop strtegies to prevent disease onset and exacerbation. ']"
      ]
     },
     "execution_count": 116,
     "metadata": {},
     "output_type": "execute_result"
    }
   ],
   "source": [
    "extract_text = re.findall(r\"(Introduction.*)\", extract)\n",
    "extract_text"
   ]
  },
  {
   "cell_type": "code",
   "execution_count": 117,
   "id": "ac21be4b-f4d6-45dc-b3b6-2f321bc71d3b",
   "metadata": {},
   "outputs": [
    {
     "data": {
      "text/html": [
       "<div>\n",
       "<style scoped>\n",
       "    .dataframe tbody tr th:only-of-type {\n",
       "        vertical-align: middle;\n",
       "    }\n",
       "\n",
       "    .dataframe tbody tr th {\n",
       "        vertical-align: top;\n",
       "    }\n",
       "\n",
       "    .dataframe thead th {\n",
       "        text-align: right;\n",
       "    }\n",
       "</style>\n",
       "<table border=\"1\" class=\"dataframe\">\n",
       "  <thead>\n",
       "    <tr style=\"text-align: right;\">\n",
       "      <th></th>\n",
       "      <th>About the person</th>\n",
       "      <th>Unnamed: 1</th>\n",
       "      <th>Unnamed: 2</th>\n",
       "      <th>About the session/topic</th>\n",
       "      <th>Unnamed: 4</th>\n",
       "      <th>Unnamed: 5</th>\n",
       "    </tr>\n",
       "  </thead>\n",
       "  <tbody>\n",
       "    <tr>\n",
       "      <th>0</th>\n",
       "      <td>Secil Vural, Yukiyasu Arakawa, Adrian Galinski...</td>\n",
       "      <td>Ludwig Maximilian University</td>\n",
       "      <td></td>\n",
       "      <td>P106</td>\n",
       "      <td>ENVIRONMENTAL TRIGGERS OF AN HLAC*06:02 RESTRI...</td>\n",
       "      <td>Introduction: Psoriasis vulgaris is a multifac...</td>\n",
       "    </tr>\n",
       "  </tbody>\n",
       "</table>\n",
       "</div>"
      ],
      "text/plain": [
       "                                    About the person  \\\n",
       "0  Secil Vural, Yukiyasu Arakawa, Adrian Galinski...   \n",
       "\n",
       "                      Unnamed: 1 Unnamed: 2 About the session/topic  \\\n",
       "0  Ludwig Maximilian University                                P106   \n",
       "\n",
       "                                          Unnamed: 4  \\\n",
       "0  ENVIRONMENTAL TRIGGERS OF AN HLAC*06:02 RESTRI...   \n",
       "\n",
       "                                          Unnamed: 5  \n",
       "0  Introduction: Psoriasis vulgaris is a multifac...  "
      ]
     },
     "execution_count": 117,
     "metadata": {},
     "output_type": "execute_result"
    }
   ],
   "source": [
    "df11 = pd.DataFrame({\"About the person\": author_name,\n",
    "                   \"Unnamed: 1\": author_location,\n",
    "                   \"Unnamed: 2\": \"\",\n",
    "                   \"About the session/topic\": \"P106\",\n",
    "                   \"Unnamed: 4\": extract_title,\n",
    "                   \"Unnamed: 5\": extract_text})\n",
    "df11"
   ]
  },
  {
   "cell_type": "code",
   "execution_count": 118,
   "id": "ef6671de-151d-4eb6-a3ae-4f8c5b17550b",
   "metadata": {},
   "outputs": [
    {
     "data": {
      "text/html": [
       "<div>\n",
       "<style scoped>\n",
       "    .dataframe tbody tr th:only-of-type {\n",
       "        vertical-align: middle;\n",
       "    }\n",
       "\n",
       "    .dataframe tbody tr th {\n",
       "        vertical-align: top;\n",
       "    }\n",
       "\n",
       "    .dataframe thead th {\n",
       "        text-align: right;\n",
       "    }\n",
       "</style>\n",
       "<table border=\"1\" class=\"dataframe\">\n",
       "  <thead>\n",
       "    <tr style=\"text-align: right;\">\n",
       "      <th></th>\n",
       "      <th>About the person</th>\n",
       "      <th>Unnamed: 1</th>\n",
       "      <th>Unnamed: 2</th>\n",
       "      <th>About the session/topic</th>\n",
       "      <th>Unnamed: 4</th>\n",
       "      <th>Unnamed: 5</th>\n",
       "    </tr>\n",
       "  </thead>\n",
       "  <tbody>\n",
       "    <tr>\n",
       "      <th>0</th>\n",
       "      <td>Name (incl. titles if any mentioned)</td>\n",
       "      <td>Affiliation(s) Name(s)</td>\n",
       "      <td>Person's Location</td>\n",
       "      <td>Session Name</td>\n",
       "      <td>Topic Title</td>\n",
       "      <td>Presentation Abstract</td>\n",
       "    </tr>\n",
       "    <tr>\n",
       "      <th>1</th>\n",
       "      <td>Zhu Shen</td>\n",
       "      <td>Institute of Dermatology and Venereology, Sich...</td>\n",
       "      <td></td>\n",
       "      <td>P100</td>\n",
       "      <td>IMMUNOLOGICAL MEMORY EXISTS IN THE RECURRENT L...</td>\n",
       "      <td>Introduction: Psoriasis usually recurs in prev...</td>\n",
       "    </tr>\n",
       "    <tr>\n",
       "      <th>2</th>\n",
       "      <td>Samar Gupta, Alicja Wasilewski</td>\n",
       "      <td>University of Michigan, MI State</td>\n",
       "      <td></td>\n",
       "      <td>P101</td>\n",
       "      <td>INVESTIGATING SYSTEMIC INFLAMMATION AS THE COM...</td>\n",
       "      <td>Introduction: Psychosocial factors are importa...</td>\n",
       "    </tr>\n",
       "    <tr>\n",
       "      <th>3</th>\n",
       "      <td>Touraj Khosravi-Hafshejani, Mehran Ghoreishi, ...</td>\n",
       "      <td>Department of Undergraduate Medical Program, F...</td>\n",
       "      <td></td>\n",
       "      <td>P102</td>\n",
       "      <td>THE IMMUNEPHENOTYPE OF SMALL PLAQUE PSORIASIS</td>\n",
       "      <td>Introduction: Small plaque psoriasis (SPP) is ...</td>\n",
       "    </tr>\n",
       "    <tr>\n",
       "      <th>4</th>\n",
       "      <td>Goksal Keskin, Ali Inal, Esra Dilek Keskin, Um...</td>\n",
       "      <td>Department of Immunology, Medical School of An...</td>\n",
       "      <td></td>\n",
       "      <td>P104</td>\n",
       "      <td>SERUM GLUCOCORTICOIDINDUCIBLE KINASE 1(SGK1) L...</td>\n",
       "      <td>Introduction: Psoriatic arthritis (PsA) is an ...</td>\n",
       "    </tr>\n",
       "    <tr>\n",
       "      <th>5</th>\n",
       "      <td>Akiko Arakawa, Emma Reeves, Sigrid Vollmer, Yu...</td>\n",
       "      <td>Ludwig-Maximilian-University, Southampton Gene...</td>\n",
       "      <td></td>\n",
       "      <td>P105</td>\n",
       "      <td>DIFFERENTIAL NH2TERMINAL AUTOANTIGEN TRIMMING ...</td>\n",
       "      <td>Introduction: NH2-terminal trimming by endopla...</td>\n",
       "    </tr>\n",
       "    <tr>\n",
       "      <th>6</th>\n",
       "      <td>Secil Vural, Yukiyasu Arakawa, Adrian Galinski...</td>\n",
       "      <td>Ludwig Maximilian University</td>\n",
       "      <td></td>\n",
       "      <td>P106</td>\n",
       "      <td>ENVIRONMENTAL TRIGGERS OF AN HLAC*06:02 RESTRI...</td>\n",
       "      <td>Introduction: Psoriasis vulgaris is a multifac...</td>\n",
       "    </tr>\n",
       "  </tbody>\n",
       "</table>\n",
       "</div>"
      ],
      "text/plain": [
       "                                    About the person  \\\n",
       "0               Name (incl. titles if any mentioned)   \n",
       "1                                          Zhu Shen    \n",
       "2                    Samar Gupta, Alicja Wasilewski    \n",
       "3  Touraj Khosravi-Hafshejani, Mehran Ghoreishi, ...   \n",
       "4  Goksal Keskin, Ali Inal, Esra Dilek Keskin, Um...   \n",
       "5  Akiko Arakawa, Emma Reeves, Sigrid Vollmer, Yu...   \n",
       "6  Secil Vural, Yukiyasu Arakawa, Adrian Galinski...   \n",
       "\n",
       "                                          Unnamed: 1         Unnamed: 2  \\\n",
       "0                             Affiliation(s) Name(s)  Person's Location   \n",
       "1  Institute of Dermatology and Venereology, Sich...                      \n",
       "2                  University of Michigan, MI State                       \n",
       "3  Department of Undergraduate Medical Program, F...                      \n",
       "4  Department of Immunology, Medical School of An...                      \n",
       "5  Ludwig-Maximilian-University, Southampton Gene...                      \n",
       "6                      Ludwig Maximilian University                       \n",
       "\n",
       "  About the session/topic                                         Unnamed: 4  \\\n",
       "0            Session Name                                        Topic Title   \n",
       "1                    P100  IMMUNOLOGICAL MEMORY EXISTS IN THE RECURRENT L...   \n",
       "2                    P101  INVESTIGATING SYSTEMIC INFLAMMATION AS THE COM...   \n",
       "3                    P102     THE IMMUNEPHENOTYPE OF SMALL PLAQUE PSORIASIS    \n",
       "4                    P104  SERUM GLUCOCORTICOIDINDUCIBLE KINASE 1(SGK1) L...   \n",
       "5                    P105  DIFFERENTIAL NH2TERMINAL AUTOANTIGEN TRIMMING ...   \n",
       "6                    P106  ENVIRONMENTAL TRIGGERS OF AN HLAC*06:02 RESTRI...   \n",
       "\n",
       "                                          Unnamed: 5  \n",
       "0                              Presentation Abstract  \n",
       "1  Introduction: Psoriasis usually recurs in prev...  \n",
       "2  Introduction: Psychosocial factors are importa...  \n",
       "3  Introduction: Small plaque psoriasis (SPP) is ...  \n",
       "4  Introduction: Psoriatic arthritis (PsA) is an ...  \n",
       "5  Introduction: NH2-terminal trimming by endopla...  \n",
       "6  Introduction: Psoriasis vulgaris is a multifac...  "
      ]
     },
     "execution_count": 118,
     "metadata": {},
     "output_type": "execute_result"
    }
   ],
   "source": [
    "df12 = df10.append(df11, ignore_index=True)\n",
    "df12"
   ]
  },
  {
   "cell_type": "code",
   "execution_count": 119,
   "id": "2940937f-6a57-488b-81a3-a38cf8168789",
   "metadata": {},
   "outputs": [],
   "source": [
    "df = pd.read_csv('task.csv')"
   ]
  },
  {
   "cell_type": "code",
   "execution_count": 120,
   "id": "5b461bc3-97be-478a-86f1-16b14e569df5",
   "metadata": {},
   "outputs": [],
   "source": [
    "excel_file = df12.to_csv(\"task.csv\", index=False)\n",
    "excel_file"
   ]
  },
  {
   "cell_type": "code",
   "execution_count": null,
   "id": "69e1b276-0e95-411f-a823-9a8196bea21b",
   "metadata": {},
   "outputs": [],
   "source": []
  }
 ],
 "metadata": {
  "kernelspec": {
   "display_name": "Python 3",
   "language": "python",
   "name": "python3"
  },
  "language_info": {
   "codemirror_mode": {
    "name": "ipython",
    "version": 3
   },
   "file_extension": ".py",
   "mimetype": "text/x-python",
   "name": "python",
   "nbconvert_exporter": "python",
   "pygments_lexer": "ipython3",
   "version": "3.9.5"
  }
 },
 "nbformat": 4,
 "nbformat_minor": 5
}
